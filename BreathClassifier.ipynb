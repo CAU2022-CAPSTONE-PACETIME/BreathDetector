{
  "nbformat": 4,
  "nbformat_minor": 0,
  "metadata": {
    "colab": {
      "provenance": [],
      "collapsed_sections": [],
      "mount_file_id": "12RwoJnO-7xpwWSEe_ndCezoh-jdE9ih5",
      "authorship_tag": "ABX9TyNkD0twW7yAajdhtfJB5oRT",
      "include_colab_link": true
    },
    "kernelspec": {
      "name": "python3",
      "display_name": "Python 3"
    },
    "language_info": {
      "name": "python"
    },
    "accelerator": "GPU",
    "gpuClass": "standard"
  },
  "cells": [
    {
      "cell_type": "markdown",
      "metadata": {
        "id": "view-in-github",
        "colab_type": "text"
      },
      "source": [
        "<a href=\"https://colab.research.google.com/github/CAU2022-CAPSTONE-PACETIME/BreathDetector/blob/BreathClassifier/BreathClassifier.ipynb\" target=\"_parent\"><img src=\"https://colab.research.google.com/assets/colab-badge.svg\" alt=\"Open In Colab\"/></a>"
      ]
    },
    {
      "cell_type": "code",
      "source": [
        "%cd /content/drive/MyDrive/ColabNotebooks"
      ],
      "metadata": {
        "colab": {
          "base_uri": "https://localhost:8080/"
        },
        "id": "hFFO_ddgadgT",
        "outputId": "8e5a4002-b4c5-42f2-a890-3b47403efd49"
      },
      "execution_count": 1,
      "outputs": [
        {
          "output_type": "stream",
          "name": "stdout",
          "text": [
            "/content/drive/MyDrive/ColabNotebooks\n"
          ]
        }
      ]
    },
    {
      "cell_type": "code",
      "source": [
        "import torch\n",
        "import torch.nn as nn\n",
        "import torch.nn.functional as F\n",
        "import torch.optim as optim\n",
        "from imu import *\n",
        "from BreathDataset import *\n",
        "from torch.utils.data import DataLoader, random_split\n",
        "\n",
        "BATCH_SIZE = 4\n",
        "EPOCHS = 6 # 반복 횟수|"
      ],
      "metadata": {
        "id": "0f8_ONyWwgYP"
      },
      "execution_count": 3,
      "outputs": []
    },
    {
      "cell_type": "code",
      "execution_count": 4,
      "metadata": {
        "id": "wsroMWcoqHl6"
      },
      "outputs": [],
      "source": [
        "# input : mfcc(40, 44) --> (Batchsize, channel, h, w) --> (BATCH_SIZE, 1, 40, 44)\n",
        "class BreathClassifier(nn.Module):\n",
        "  def __init__(self):\n",
        "    super().__init__()\n",
        "    self.conv1 = nn.Sequential(\n",
        "        nn.Conv2d(\n",
        "            in_channels = 1,\n",
        "            out_channels = 4,\n",
        "            kernel_size = (3, 3),\n",
        "            stride = 1,\n",
        "            padding = 1\n",
        "        ),\n",
        "        nn.BatchNorm2d(4),\n",
        "        nn.ReLU()\n",
        "    )\n",
        " \n",
        "    self.conv2 = nn.Sequential(\n",
        "        nn.Conv2d(\n",
        "            in_channels = 4,\n",
        "            out_channels = 4,\n",
        "            kernel_size = (3, 3),\n",
        "            stride = (1, 1),\n",
        "            padding = 1\n",
        "        ),\n",
        "        nn.BatchNorm2d(4),\n",
        "        nn.ReLU()\n",
        "    )\n",
        "    \n",
        "\n",
        "    self.fc1 = nn.Sequential(\n",
        "        nn.Linear(4*40*44, 500),\n",
        "        nn.ReLU()\n",
        "    )\n",
        "    \n",
        "    self.fc2 = nn.Sequential(\n",
        "        nn.Linear(500, 200),\n",
        "        nn.ReLU()\n",
        "    )\n",
        "\n",
        "    self.fc3 = nn.Sequential(\n",
        "        nn.Linear(200, 50),\n",
        "        nn.ReLU()\n",
        "    )\n",
        "\n",
        "    self.fc4 = nn.Sequential(\n",
        "        nn.Linear(50, 1),\n",
        "        nn.Sigmoid()\n",
        "    )\n",
        "\n",
        "    self.dropout = nn.Dropout(0.4)\n",
        "  \n",
        "  def forward(self, input):\n",
        "    x = self.conv1(input)\n",
        "    x = self.dropout(x)\n",
        "    x = self.conv2(x)\n",
        "    x = self.dropout(x)\n",
        "    x = x.view(x.size(0), -1)\n",
        "    \n",
        "    x = self.fc1(x)\n",
        "    x = self.fc2(x)\n",
        "    x = self.fc3(x)\n",
        "    x = self.fc4(x)\n",
        "\n",
        "    return x"
      ]
    },
    {
      "cell_type": "code",
      "source": [
        "def create_data_loader(train_data, batch_size):\n",
        "  data_loader = DataLoader(train_data, batch_size = batch_size, shuffle = True, drop_last = True)\n",
        "  return data_loader\n",
        "\n",
        "def train_single_epoch(model, data_loader, loss_fn, optimizer, device):\n",
        "  for input, target in data_loader:\n",
        "    input = input.view(60, -1, 40, 44) # sound : batch*60x40x44->60*batch*40*44 imu : batch*60 -> 60*batch\n",
        "    target = target.view(60, -1) \n",
        "\n",
        "    for i in range(len(input)):\n",
        "      sound = input[i].view(-1, 1, 40, 44).to(device)\n",
        "      imu = target[i].view(-1, 1).to(device)\n",
        "      prediction = model(sound)\n",
        "      loss = loss_fn(prediction, imu)\n",
        "\n",
        "      optimizer.zero_grad()\n",
        "      loss.backward()\n",
        "      optimizer.step()\n",
        "\n",
        "def train(model, data_loader, loss_fn, optimizer, device, epochs):\n",
        "  for i in range(epochs):\n",
        "    print(f\"Epoch {i + 1}\")\n",
        "    train_single_epoch(model, data_loader, loss_fn, optimizer, device)\n",
        "    print(\"------------------------------\")\n",
        "  print(\"Finished training \")\n",
        "\n",
        "\n",
        "def test(model, data_loader):\n",
        "  with torch.no_grad():\n",
        "    for input, target in data_loader:\n",
        "      input = input.view(60, -1, 40, 44) # sound : batch*60x40x44->60*batch*40*44 imu : batch*60 -> 60*batch\n",
        "      target = target.view(60, -1) \n",
        "        #print(\"input shape : {} target shape {}\".format(input.shape, target.shape))\n",
        "      accuracy = 0\n",
        "      total = 0\n",
        "      for i in range(len(input)):\n",
        "        sound = input[i].view(-1, 1, 40, 44).to(device)\n",
        "        imu = target[i].view(-1, 1).to(device)\n",
        "   \n",
        "        prediction = 1 if model(sound) >= 0.5 else 0\n",
        "        total += 1\n",
        "        accuracy += (prediction == imu).sum().item()\n",
        "    print(\"accuracy : {}\".format(100*accuracy/total))"
      ],
      "metadata": {
        "id": "v5KjNLQQ1FMN"
      },
      "execution_count": 5,
      "outputs": []
    },
    {
      "cell_type": "code",
      "source": [
        "if __name__ == \"__main__\":\n",
        "  audio_list = [\"/content/drive/MyDrive/ColabNotebooks/Data/note9-budslive\", \"/content/drive/MyDrive/ColabNotebooks/Data/A21s-airpodspro\"]\n",
        "  device = \"cuda\" if torch.cuda.is_available() else \"cpu\"\n",
        "  dataset = BreathDataset(audio_list, device)\n",
        "  print(\"Data length : {} Device : {}\".format(len(dataset), device))\n",
        "\n",
        "  train_ratio = 0.8\n",
        "  train_data_length = int(train_ratio * len(dataset))\n",
        "  test_data_length = len(dataset) - train_data_length\n",
        "\n",
        "  train_dataset, test_dataset = random_split(dataset, [train_data_length, test_data_length])\n",
        "  train_data_loader = create_data_loader(train_dataset, BATCH_SIZE)\n",
        "  test_data_loader = create_data_loader(test_dataset, 1)\n",
        "  \n",
        "  cnn = BreathClassifier().to(device)\n",
        "  print(cnn)\n",
        "\n",
        "  loss_fn = nn.BCELoss()\n",
        "  optimizer = optim.Adam(cnn.parameters(), lr = 0.001)\n",
        "\n",
        "  train(cnn, train_data_loader, loss_fn, optimizer, device, EPOCHS)\n",
        "  torch.save(cnn.state_dict(), \"BreathClassifier.pth\")\n"
      ],
      "metadata": {
        "id": "CRTY1RkT_wFT",
        "colab": {
          "base_uri": "https://localhost:8080/"
        },
        "outputId": "829484da-7778-46d1-9451-a64d659dd283"
      },
      "execution_count": 6,
      "outputs": [
        {
          "output_type": "stream",
          "name": "stdout",
          "text": [
            "Data length : 63 Device : cuda\n",
            "BreathClassifier(\n",
            "  (conv1): Sequential(\n",
            "    (0): Conv2d(1, 4, kernel_size=(3, 3), stride=(1, 1), padding=(1, 1))\n",
            "    (1): BatchNorm2d(4, eps=1e-05, momentum=0.1, affine=True, track_running_stats=True)\n",
            "    (2): ReLU()\n",
            "  )\n",
            "  (conv2): Sequential(\n",
            "    (0): Conv2d(4, 4, kernel_size=(3, 3), stride=(1, 1), padding=(1, 1))\n",
            "    (1): BatchNorm2d(4, eps=1e-05, momentum=0.1, affine=True, track_running_stats=True)\n",
            "    (2): ReLU()\n",
            "  )\n",
            "  (fc1): Sequential(\n",
            "    (0): Linear(in_features=7040, out_features=500, bias=True)\n",
            "    (1): ReLU()\n",
            "  )\n",
            "  (fc2): Sequential(\n",
            "    (0): Linear(in_features=500, out_features=200, bias=True)\n",
            "    (1): ReLU()\n",
            "  )\n",
            "  (fc3): Sequential(\n",
            "    (0): Linear(in_features=200, out_features=50, bias=True)\n",
            "    (1): ReLU()\n",
            "  )\n",
            "  (fc4): Sequential(\n",
            "    (0): Linear(in_features=50, out_features=1, bias=True)\n",
            "    (1): Sigmoid()\n",
            "  )\n",
            "  (dropout): Dropout(p=0.4, inplace=False)\n",
            ")\n",
            "Epoch 1\n"
          ]
        },
        {
          "output_type": "stream",
          "name": "stderr",
          "text": [
            "/content/drive/MyDrive/ColabNotebooks/BreathDataset.py:47: UserWarning: Creating a tensor from a list of numpy.ndarrays is extremely slow. Please consider converting the list to a single numpy.ndarray with numpy.array() before converting to a tensor. (Triggered internally at  ../torch/csrc/utils/tensor_new.cpp:201.)\n",
            "  return torch.FloatTensor(mfcc_list), torch.FloatTensor(imu.get_item())\n"
          ]
        },
        {
          "output_type": "stream",
          "name": "stdout",
          "text": [
            "------------------------------\n",
            "Epoch 2\n",
            "------------------------------\n",
            "Epoch 3\n",
            "------------------------------\n",
            "Epoch 4\n",
            "------------------------------\n",
            "Epoch 5\n",
            "------------------------------\n",
            "Epoch 6\n",
            "------------------------------\n",
            "Finished training \n"
          ]
        }
      ]
    },
    {
      "cell_type": "code",
      "source": [
        "# 모델 불러오기\n",
        "model = BreathClassifier().to(device)\n",
        "model.load_state_dict(torch.load(\"BreathClassifier.pth\", map_location = device))\n",
        "print(model)\n",
        "test(model, test_data_loader)"
      ],
      "metadata": {
        "id": "CSuU36oJpqW3",
        "colab": {
          "base_uri": "https://localhost:8080/"
        },
        "outputId": "d71a4b6f-4850-49e9-8635-ce72e814d31b"
      },
      "execution_count": 8,
      "outputs": [
        {
          "output_type": "stream",
          "name": "stdout",
          "text": [
            "BreathClassifier(\n",
            "  (conv1): Sequential(\n",
            "    (0): Conv2d(1, 4, kernel_size=(3, 3), stride=(1, 1), padding=(1, 1))\n",
            "    (1): BatchNorm2d(4, eps=1e-05, momentum=0.1, affine=True, track_running_stats=True)\n",
            "    (2): ReLU()\n",
            "  )\n",
            "  (conv2): Sequential(\n",
            "    (0): Conv2d(4, 4, kernel_size=(3, 3), stride=(1, 1), padding=(1, 1))\n",
            "    (1): BatchNorm2d(4, eps=1e-05, momentum=0.1, affine=True, track_running_stats=True)\n",
            "    (2): ReLU()\n",
            "  )\n",
            "  (fc1): Sequential(\n",
            "    (0): Linear(in_features=7040, out_features=500, bias=True)\n",
            "    (1): ReLU()\n",
            "  )\n",
            "  (fc2): Sequential(\n",
            "    (0): Linear(in_features=500, out_features=200, bias=True)\n",
            "    (1): ReLU()\n",
            "  )\n",
            "  (fc3): Sequential(\n",
            "    (0): Linear(in_features=200, out_features=50, bias=True)\n",
            "    (1): ReLU()\n",
            "  )\n",
            "  (fc4): Sequential(\n",
            "    (0): Linear(in_features=50, out_features=1, bias=True)\n",
            "    (1): Sigmoid()\n",
            "  )\n",
            "  (dropout): Dropout(p=0.4, inplace=False)\n",
            ")\n",
            "accuracy : 83.33333333333333\n"
          ]
        }
      ]
    },
    {
      "cell_type": "code",
      "source": [
        "import pandas as pd\n",
        "\n",
        "def sound_process(path, index):\n",
        "  data = pd.read_csv(path)\n"
      ],
      "metadata": {
        "id": "m4rq3z9D8Aya"
      },
      "execution_count": null,
      "outputs": []
    }
  ]
}
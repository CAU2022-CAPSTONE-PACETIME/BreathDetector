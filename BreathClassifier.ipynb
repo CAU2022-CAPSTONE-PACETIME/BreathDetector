{
  "nbformat": 4,
  "nbformat_minor": 0,
  "metadata": {
    "colab": {
      "provenance": [],
      "collapsed_sections": [],
      "mount_file_id": "12RwoJnO-7xpwWSEe_ndCezoh-jdE9ih5",
      "authorship_tag": "ABX9TyNKka7V65b9mR4R8fo5mUY/",
      "include_colab_link": true
    },
    "kernelspec": {
      "name": "python3",
      "display_name": "Python 3"
    },
    "language_info": {
      "name": "python"
    },
    "accelerator": "GPU",
    "gpuClass": "standard"
  },
  "cells": [
    {
      "cell_type": "markdown",
      "metadata": {
        "id": "view-in-github",
        "colab_type": "text"
      },
      "source": [
        "<a href=\"https://colab.research.google.com/github/CAU2022-CAPSTONE-PACETIME/BreathDetector/blob/BreathClassifier/BreathClassifier.ipynb\" target=\"_parent\"><img src=\"https://colab.research.google.com/assets/colab-badge.svg\" alt=\"Open In Colab\"/></a>"
      ]
    },
    {
      "cell_type": "code",
      "source": [
        "%cd /content/drive/MyDrive/ColabNotebooks"
      ],
      "metadata": {
        "colab": {
          "base_uri": "https://localhost:8080/"
        },
        "id": "hFFO_ddgadgT",
        "outputId": "529809f5-99ef-48aa-ad06-84d77fdf5b27"
      },
      "execution_count": null,
      "outputs": [
        {
          "output_type": "stream",
          "name": "stdout",
          "text": [
            "/content/drive/MyDrive/ColabNotebooks\n"
          ]
        }
      ]
    },
    {
      "cell_type": "code",
      "source": [
        "import torch\n",
        "import torch.nn as nn\n",
        "import torch.nn.functional as F\n",
        "import torch.optim as optim\n",
        "from imu import *\n",
        "from BreathDataset import *\n",
        "from torch.utils.data import DataLoader, random_split\n",
        "from Sound import *\n",
        "\n",
        "BATCH_SIZE = 4\n",
        "EPOCHS = 20 # 반복 횟수|"
      ],
      "metadata": {
        "id": "0f8_ONyWwgYP"
      },
      "execution_count": null,
      "outputs": []
    },
    {
      "cell_type": "code",
      "execution_count": null,
      "metadata": {
        "id": "wsroMWcoqHl6"
      },
      "outputs": [],
      "source": [
        "# input : mfcc(40, 44) --> (Batchsize, channel, h, w) --> (BATCH_SIZE, 1, 40, 44)\n",
        "# sound --> batchsize, 1, 22050\n",
        "class BreathClassifier(nn.Module):\n",
        "  def __init__(self, device):\n",
        "    super().__init__()\n",
        "    self.device = device\n",
        "\n",
        "    self.conv1 = nn.Sequential(\n",
        "        nn.Conv2d(\n",
        "            in_channels = 1,\n",
        "            out_channels = 4,\n",
        "            kernel_size = (3, 3),\n",
        "            stride = 1,\n",
        "            padding = 1\n",
        "        ),\n",
        "        nn.BatchNorm2d(4),\n",
        "        nn.ReLU()\n",
        "    )\n",
        " \n",
        "    self.conv2 = nn.Sequential(\n",
        "        nn.Conv2d(\n",
        "            in_channels = 4,\n",
        "            out_channels = 4,\n",
        "            kernel_size = (3, 3),\n",
        "            stride = (1, 1),\n",
        "            padding = 1\n",
        "        ),\n",
        "        nn.BatchNorm2d(4),\n",
        "        nn.ReLU()\n",
        "    )\n",
        "\n",
        "    self.fc1 = nn.Sequential(\n",
        "        nn.Linear(4*40*44, 500),\n",
        "        nn.ReLU()\n",
        "    )\n",
        "    \n",
        "    self.fc2 = nn.Sequential(\n",
        "        nn.Linear(500, 200),\n",
        "        nn.ReLU()\n",
        "    )\n",
        "\n",
        "    self.fc3 = nn.Sequential(\n",
        "        nn.Linear(200, 50),\n",
        "        nn.ReLU()\n",
        "    )\n",
        "\n",
        "    self.fc4 = nn.Sequential(\n",
        "        nn.Linear(50, 1),\n",
        "        nn.Sigmoid()\n",
        "    )\n",
        "\n",
        "    self.dropout = nn.Dropout(0.4)\n",
        "  \n",
        "  def forward(self, input):\n",
        "    if self.device == \"cuda\":\n",
        "      input = input.cpu()\n",
        "    \n",
        "    sound = Sound(input.numpy())\n",
        "    mfcc = self.sound_process(sound)\n",
        "\n",
        "    if self.device == \"cuda\":\n",
        "      mfcc = mfcc.to(device)\n",
        "    x = self.conv1(mfcc)\n",
        "    x = self.dropout(x)\n",
        "    x = self.conv2(x)\n",
        "    x = self.dropout(x)\n",
        "    x = x.view(x.size(0), -1)\n",
        "    \n",
        "    x = self.fc1(x)\n",
        "    x = self.fc2(x)\n",
        "    x = self.fc3(x)\n",
        "    x = self.fc4(x)\n",
        "\n",
        "    return x\n",
        "  \n",
        "  def sound_process(self, sound):\n",
        "    mfcc = torch.FloatTensor(sound.get_item())\n",
        "    mfcc = mfcc.view(-1, 1, 40, 44)\n",
        "\n",
        "    return mfcc\n"
      ]
    },
    {
      "cell_type": "code",
      "source": [
        "def create_data_loader(train_data, batch_size):\n",
        "  data_loader = DataLoader(train_data, batch_size = batch_size, shuffle = True, drop_last = True)\n",
        "  return data_loader\n",
        "\n",
        "def train_single_epoch(model, data_loader, loss_fn, optimizer, device):\n",
        "  for input, target in data_loader:\n",
        "    input = input.view(60, -1, 22050) # sound : batch*60x40x44->60*batch*40*44 imu : batch*60 -> 60*batch\n",
        "    target = target.view(60, -1) \n",
        "\n",
        "    for i in range(len(input)):\n",
        "      sound = input[i].view(-1,22050).to(device) # sound.shape : Batchx22050\n",
        "      imu = target[i].view(-1, 1).to(device)\n",
        "      prediction = model(sound)\n",
        "      loss = loss_fn(prediction, imu)\n",
        "\n",
        "      optimizer.zero_grad()\n",
        "      loss.backward()\n",
        "      optimizer.step()\n",
        "\n",
        "def train(model, data_loader, loss_fn, optimizer, device, epochs):\n",
        "  for i in range(epochs):\n",
        "    print(f\"Epoch {i + 1}\")\n",
        "    train_single_epoch(model, data_loader, loss_fn, optimizer, device)\n",
        "    print(\"------------------------------\")\n",
        "  print(\"Finished training \")\n",
        "\n",
        "\n",
        "def test(model, data_loader):\n",
        "  with torch.no_grad():\n",
        "    for input, target in data_loader:\n",
        "      input = input.view(60, -1, 22050) # sound : batch*60x40x44->60*batch*40*44 imu : batch*60 -> 60*batch\n",
        "      target = target.view(60, -1) \n",
        "        #print(\"input shape : {} target shape {}\".format(input.shape, target.shape))\n",
        "      accuracy = 0\n",
        "      total = 0\n",
        "      for i in range(len(input)):\n",
        "        sound = input[i].view(-1, 22050).to(device)\n",
        "        imu = target[i].view(-1, 1).to(device)\n",
        "   \n",
        "        prediction = 1 if model(sound) >= 0.5 else 0\n",
        "        total += 1\n",
        "        accuracy += (prediction == imu).sum().item()\n",
        "    print(\"accuracy : {}\".format(100*accuracy/total))"
      ],
      "metadata": {
        "id": "v5KjNLQQ1FMN"
      },
      "execution_count": null,
      "outputs": []
    },
    {
      "cell_type": "code",
      "source": [
        "if __name__ == \"__main__\":\n",
        "  audio_list = [\"/content/drive/MyDrive/ColabNotebooks/Data/note9-budslive\", \"/content/drive/MyDrive/ColabNotebooks/Data/A21s-airpodspro\"]\n",
        "  device = \"cuda\" if torch.cuda.is_available() else \"cpu\"\n",
        "  dataset = BreathDataset(audio_list, device)\n",
        "  print(\"Data length : {} Device : {}\".format(len(dataset), device))\n",
        "\n",
        "  train_ratio = 0.8\n",
        "  train_data_length = int(train_ratio * len(dataset))\n",
        "  test_data_length = len(dataset) - train_data_length\n",
        "\n",
        "  train_dataset, test_dataset = random_split(dataset, [train_data_length, test_data_length])\n",
        "  train_data_loader = create_data_loader(train_dataset, BATCH_SIZE)\n",
        "  test_data_loader = create_data_loader(test_dataset, 1)\n",
        "  \n",
        "  cnn = BreathClassifier(device).to(device)\n",
        "  print(cnn)\n",
        "\n",
        "  loss_fn = nn.BCELoss()\n",
        "  optimizer = optim.Adam(cnn.parameters(), lr = 0.001)\n",
        "\n",
        "  train(cnn, train_data_loader, loss_fn, optimizer, device, EPOCHS)\n",
        "  torch.save(cnn.state_dict(), \"BreathClassifier.pth\")\n"
      ],
      "metadata": {
        "id": "CRTY1RkT_wFT",
        "colab": {
          "base_uri": "https://localhost:8080/"
        },
        "outputId": "0140471b-8a3b-42fe-f433-9b3c07c5b50b"
      },
      "execution_count": null,
      "outputs": [
        {
          "output_type": "stream",
          "name": "stdout",
          "text": [
            "Data length : 68 Device : cuda\n",
            "BreathClassifier(\n",
            "  (conv1): Sequential(\n",
            "    (0): Conv2d(1, 4, kernel_size=(3, 3), stride=(1, 1), padding=(1, 1))\n",
            "    (1): BatchNorm2d(4, eps=1e-05, momentum=0.1, affine=True, track_running_stats=True)\n",
            "    (2): ReLU()\n",
            "  )\n",
            "  (conv2): Sequential(\n",
            "    (0): Conv2d(4, 4, kernel_size=(3, 3), stride=(1, 1), padding=(1, 1))\n",
            "    (1): BatchNorm2d(4, eps=1e-05, momentum=0.1, affine=True, track_running_stats=True)\n",
            "    (2): ReLU()\n",
            "  )\n",
            "  (fc1): Sequential(\n",
            "    (0): Linear(in_features=7040, out_features=500, bias=True)\n",
            "    (1): ReLU()\n",
            "  )\n",
            "  (fc2): Sequential(\n",
            "    (0): Linear(in_features=500, out_features=200, bias=True)\n",
            "    (1): ReLU()\n",
            "  )\n",
            "  (fc3): Sequential(\n",
            "    (0): Linear(in_features=200, out_features=50, bias=True)\n",
            "    (1): ReLU()\n",
            "  )\n",
            "  (fc4): Sequential(\n",
            "    (0): Linear(in_features=50, out_features=1, bias=True)\n",
            "    (1): Sigmoid()\n",
            "  )\n",
            "  (dropout): Dropout(p=0.4, inplace=False)\n",
            ")\n",
            "Epoch 1\n",
            "------------------------------\n",
            "Epoch 2\n",
            "------------------------------\n",
            "Epoch 3\n",
            "------------------------------\n",
            "Epoch 4\n",
            "------------------------------\n",
            "Epoch 5\n",
            "------------------------------\n",
            "Epoch 6\n",
            "------------------------------\n",
            "Epoch 7\n",
            "------------------------------\n",
            "Epoch 8\n",
            "------------------------------\n",
            "Epoch 9\n",
            "------------------------------\n",
            "Epoch 10\n",
            "------------------------------\n",
            "Epoch 11\n",
            "------------------------------\n",
            "Epoch 12\n",
            "------------------------------\n",
            "Epoch 13\n",
            "------------------------------\n",
            "Epoch 14\n",
            "------------------------------\n",
            "Epoch 15\n",
            "------------------------------\n",
            "Epoch 16\n",
            "------------------------------\n",
            "Epoch 17\n",
            "------------------------------\n",
            "Epoch 18\n",
            "------------------------------\n",
            "Epoch 19\n",
            "------------------------------\n",
            "Epoch 20\n",
            "------------------------------\n",
            "Finished training \n"
          ]
        }
      ]
    },
    {
      "cell_type": "code",
      "source": [
        "# 모델 불러오기\n",
        "model = BreathClassifier(device).to(device)\n",
        "model.load_state_dict(torch.load(\"BreathClassifier.pth\", map_location = device))\n",
        "print(model)\n",
        "test(model, test_data_loader)"
      ],
      "metadata": {
        "id": "CSuU36oJpqW3",
        "colab": {
          "base_uri": "https://localhost:8080/"
        },
        "outputId": "2c001462-7903-4129-d8e7-f77846bb3648"
      },
      "execution_count": null,
      "outputs": [
        {
          "output_type": "stream",
          "name": "stdout",
          "text": [
            "BreathClassifier(\n",
            "  (conv1): Sequential(\n",
            "    (0): Conv2d(1, 4, kernel_size=(3, 3), stride=(1, 1), padding=(1, 1))\n",
            "    (1): BatchNorm2d(4, eps=1e-05, momentum=0.1, affine=True, track_running_stats=True)\n",
            "    (2): ReLU()\n",
            "  )\n",
            "  (conv2): Sequential(\n",
            "    (0): Conv2d(4, 4, kernel_size=(3, 3), stride=(1, 1), padding=(1, 1))\n",
            "    (1): BatchNorm2d(4, eps=1e-05, momentum=0.1, affine=True, track_running_stats=True)\n",
            "    (2): ReLU()\n",
            "  )\n",
            "  (fc1): Sequential(\n",
            "    (0): Linear(in_features=7040, out_features=500, bias=True)\n",
            "    (1): ReLU()\n",
            "  )\n",
            "  (fc2): Sequential(\n",
            "    (0): Linear(in_features=500, out_features=200, bias=True)\n",
            "    (1): ReLU()\n",
            "  )\n",
            "  (fc3): Sequential(\n",
            "    (0): Linear(in_features=200, out_features=50, bias=True)\n",
            "    (1): ReLU()\n",
            "  )\n",
            "  (fc4): Sequential(\n",
            "    (0): Linear(in_features=50, out_features=1, bias=True)\n",
            "    (1): Sigmoid()\n",
            "  )\n",
            "  (dropout): Dropout(p=0.4, inplace=False)\n",
            ")\n",
            "accuracy : 70.0\n"
          ]
        }
      ]
    },
    {
      "cell_type": "code",
      "source": [
        "import pandas as pd\n",
        "import numpy as np\n",
        "import time\n",
        "\n",
        "def sound_process(path, sp):\n",
        "  data = pd.read_csv(path)\n",
        "  data = data[\"sound\"].dropna()\n",
        "  data = np.array(data)\n",
        "  sample = data[13*44100:13*44100+22050]\n",
        "\n",
        "  return sample\n",
        "\n",
        "path = \"/content/drive/MyDrive/ColabNotebooks/Data/note9-airpodspro/Data_2022-11-01_18_45_48.csv\"\n",
        "sample= sound_process(path, 1)\n",
        "print(sample.shape)\n",
        "\n",
        "start = time.time()\n",
        "average = 0\n",
        "for i in range(20):\n",
        "  total = model(torch.Tensor(sample))\n",
        "  print(total)\n",
        "  average += total\n",
        "end = time.time()-start\n",
        "\n",
        "print(end)\n",
        "print(average/20)"
      ],
      "metadata": {
        "id": "m4rq3z9D8Aya",
        "colab": {
          "base_uri": "https://localhost:8080/"
        },
        "outputId": "0f7f4941-2cfb-4a2f-e7ad-ea441af57394"
      },
      "execution_count": null,
      "outputs": [
        {
          "output_type": "stream",
          "name": "stdout",
          "text": [
            "(22050,)\n",
            "tensor([[2.7092e-05]], device='cuda:0', grad_fn=<SigmoidBackward0>)\n",
            "tensor([[9.1950e-08]], device='cuda:0', grad_fn=<SigmoidBackward0>)\n",
            "tensor([[0.0006]], device='cuda:0', grad_fn=<SigmoidBackward0>)\n",
            "tensor([[7.9472e-06]], device='cuda:0', grad_fn=<SigmoidBackward0>)\n",
            "tensor([[1.9994e-08]], device='cuda:0', grad_fn=<SigmoidBackward0>)\n",
            "tensor([[1.0765e-05]], device='cuda:0', grad_fn=<SigmoidBackward0>)\n",
            "tensor([[1.0760e-07]], device='cuda:0', grad_fn=<SigmoidBackward0>)\n",
            "tensor([[4.2409e-08]], device='cuda:0', grad_fn=<SigmoidBackward0>)\n",
            "tensor([[9.6898e-07]], device='cuda:0', grad_fn=<SigmoidBackward0>)\n",
            "tensor([[3.1795e-07]], device='cuda:0', grad_fn=<SigmoidBackward0>)\n",
            "tensor([[1.3592e-09]], device='cuda:0', grad_fn=<SigmoidBackward0>)\n",
            "tensor([[6.3661e-07]], device='cuda:0', grad_fn=<SigmoidBackward0>)\n",
            "tensor([[3.7459e-08]], device='cuda:0', grad_fn=<SigmoidBackward0>)\n",
            "tensor([[1.0394e-06]], device='cuda:0', grad_fn=<SigmoidBackward0>)\n",
            "tensor([[6.2918e-07]], device='cuda:0', grad_fn=<SigmoidBackward0>)\n",
            "tensor([[3.9301e-06]], device='cuda:0', grad_fn=<SigmoidBackward0>)\n",
            "tensor([[4.0286e-07]], device='cuda:0', grad_fn=<SigmoidBackward0>)\n",
            "tensor([[1.0053e-07]], device='cuda:0', grad_fn=<SigmoidBackward0>)\n",
            "tensor([[2.1495e-06]], device='cuda:0', grad_fn=<SigmoidBackward0>)\n",
            "tensor([[4.0029e-09]], device='cuda:0', grad_fn=<SigmoidBackward0>)\n",
            "0.3114008903503418\n",
            "tensor([[3.5281e-05]], device='cuda:0', grad_fn=<DivBackward0>)\n"
          ]
        }
      ]
    },
    {
      "cell_type": "code",
      "source": [],
      "metadata": {
        "id": "qyw0L6SuRt-4"
      },
      "execution_count": null,
      "outputs": []
    }
  ]
}
{
  "nbformat": 4,
  "nbformat_minor": 0,
  "metadata": {
    "colab": {
      "provenance": [],
      "mount_file_id": "1h2Zc-vxfSK-RreHQPdlewBWvUEeEr73Y",
      "authorship_tag": "ABX9TyODFgkUTscund/OFs0QhvML",
      "include_colab_link": true
    },
    "kernelspec": {
      "name": "python3",
      "display_name": "Python 3"
    },
    "language_info": {
      "name": "python"
    }
  },
  "cells": [
    {
      "cell_type": "markdown",
      "metadata": {
        "id": "view-in-github",
        "colab_type": "text"
      },
      "source": [
        "<a href=\"https://colab.research.google.com/github/CAU2022-CAPSTONE-PACETIME/BreathDetector/blob/main/BreathDataset.ipynb\" target=\"_parent\"><img src=\"https://colab.research.google.com/assets/colab-badge.svg\" alt=\"Open In Colab\"/></a>"
      ]
    },
    {
      "cell_type": "code",
      "source": [
        "%cd /content/drive/MyDrive/ColabNotebooks"
      ],
      "metadata": {
        "colab": {
          "base_uri": "https://localhost:8080/"
        },
        "id": "sUmxJKMYzghz",
        "outputId": "86ce5bdb-897c-4d67-da6a-f297fc2f48a1"
      },
      "execution_count": null,
      "outputs": [
        {
          "output_type": "stream",
          "name": "stdout",
          "text": [
            "/content/drive/MyDrive/ColabNotebooks\n"
          ]
        }
      ]
    },
    {
      "cell_type": "code",
      "source": [
        "!pip install audiomentations"
      ],
      "metadata": {
        "id": "tsokqJ7EC-Zk"
      },
      "execution_count": null,
      "outputs": []
    },
    {
      "cell_type": "code",
      "source": [
        "from torch.utils.data import Dataset\n",
        "from torch.utils.data import DataLoader\n",
        "import torch\n",
        "import pandas as pd\n",
        "from scipy import signal as scipy_signal\n",
        "import sklearn\n",
        "import numpy as np\n",
        "import numpy.linalg as LA\n",
        "import os\n",
        "from imu import *"
      ],
      "metadata": {
        "id": "5ltEuMk74UOU"
      },
      "execution_count": null,
      "outputs": []
    },
    {
      "cell_type": "code",
      "execution_count": null,
      "metadata": {
        "id": "qG-p3L0vR9Bb"
      },
      "outputs": [],
      "source": [
        "class BreathDataset(Dataset):\n",
        "  def __init__(self, audio_dirlist):\n",
        "    \"\"\"\n",
        "    Breath Dataset\n",
        "    Arg : \n",
        "      audio_dirlist : audio path\n",
        "      mode : Augment or Not\n",
        "    \"\"\"\n",
        "    self.audio_list = self.__combine_files(audio_dirlist)\n",
        "    self.audio_sr = 44100\n",
        "    self.imu_sr = 200\n",
        "\n",
        "\n",
        "  def __len__(self):\n",
        "    return len(self.audio_list)\n",
        "\n",
        "  def __getitem__(self, index):\n",
        "    sample_path = self.audio_list[index]\n",
        "    csv_data = pd.read_csv(sample_path)\n",
        "    sound_data = csv_data['sound'].dropna()\n",
        "    sound_data = self.__cut_sound(sound_data)\n",
        "    sound_data = self.__right_pad(sound_data)\n",
        "    sound_list = self.__sound_cutting(sound_data)\n",
        "    imu = Imu(csv_data)\n",
        "\n",
        "    return torch.FloatTensor(np.array(sound_list)), torch.FloatTenosr(np.array(imu.get_item()[:116]))\n",
        "\n",
        "  def __combine_files(self, audio_dirlist):\n",
        "    audio_lst = []\n",
        "    for audio_path in audio_dirlist:\n",
        "      lst = os.listdir(audio_path)\n",
        "      \n",
        "      for audio in lst:\n",
        "        path = audio_path + \"/\" + audio\n",
        "        audio_lst.append(path)\n",
        "\n",
        "    return audio_lst\n",
        "\n",
        "  def __cut_sound(self, data):\n",
        "    if len(data) > 44100 * 29:\n",
        "      data = data[:44100*29]\n",
        "    return data\n",
        "  \n",
        "  def __right_pad(self, data):\n",
        "    if len(data) < 44100 * 29:\n",
        "      missing_samples = 44100*29 - len(data)\n",
        "      lst = [0 for _ in range(missing_samples)]\n",
        "      data = np.append(data, lst)\n",
        "    return data\n",
        "\n",
        "  def __sound_cutting(self, signal):\n",
        "    sound_lst = []\n",
        "\n",
        "    for start in range(116):\n",
        "      qu_sr = int(self.audio_sr/4)\n",
        "      signal_q = signal[start*qu_sr : start*qu_sr+ qu_sr]\n",
        "      sound_lst.append(signal_q)\n",
        "\n",
        "    return sound_lst"
      ]
    }
  ]
}